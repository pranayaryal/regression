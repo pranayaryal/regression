{
 "cells": [
  {
   "cell_type": "code",
   "execution_count": 22,
   "metadata": {
    "collapsed": true
   },
   "outputs": [],
   "source": [
    "%matplotlib inline\n",
    "import pandas as pd\n",
    "import numpy as np\n",
    "import seaborn as sns"
   ]
  },
  {
   "cell_type": "code",
   "execution_count": 3,
   "metadata": {},
   "outputs": [],
   "source": [
    "train = pd.read_csv('/home/pranay/portfolio/house/trainHouse.csv')"
   ]
  },
  {
   "cell_type": "code",
   "execution_count": 17,
   "metadata": {},
   "outputs": [
    {
     "data": {
      "text/plain": [
       "Pave    1454\n",
       "Grvl       6\n",
       "Name: Street, dtype: int64"
      ]
     },
     "execution_count": 17,
     "metadata": {},
     "output_type": "execute_result"
    }
   ],
   "source": [
    "train.Street.value_counts()"
   ]
  },
  {
   "cell_type": "code",
   "execution_count": 19,
   "metadata": {},
   "outputs": [
    {
     "data": {
      "text/html": [
       "<div>\n",
       "<table border=\"1\" class=\"dataframe\">\n",
       "  <thead>\n",
       "    <tr style=\"text-align: right;\">\n",
       "      <th></th>\n",
       "      <th>Id</th>\n",
       "      <th>MSSubClass</th>\n",
       "      <th>MSZoning</th>\n",
       "      <th>LotFrontage</th>\n",
       "      <th>LotArea</th>\n",
       "      <th>Street</th>\n",
       "      <th>Alley</th>\n",
       "      <th>LotShape</th>\n",
       "      <th>LandContour</th>\n",
       "      <th>Utilities</th>\n",
       "      <th>...</th>\n",
       "      <th>PoolArea</th>\n",
       "      <th>PoolQC</th>\n",
       "      <th>Fence</th>\n",
       "      <th>MiscFeature</th>\n",
       "      <th>MiscVal</th>\n",
       "      <th>MoSold</th>\n",
       "      <th>YrSold</th>\n",
       "      <th>SaleType</th>\n",
       "      <th>SaleCondition</th>\n",
       "      <th>SalePrice</th>\n",
       "    </tr>\n",
       "  </thead>\n",
       "  <tbody>\n",
       "    <tr>\n",
       "      <th>0</th>\n",
       "      <td>1</td>\n",
       "      <td>60</td>\n",
       "      <td>RL</td>\n",
       "      <td>65</td>\n",
       "      <td>8450</td>\n",
       "      <td>Pave</td>\n",
       "      <td>NaN</td>\n",
       "      <td>Reg</td>\n",
       "      <td>Lvl</td>\n",
       "      <td>AllPub</td>\n",
       "      <td>...</td>\n",
       "      <td>0</td>\n",
       "      <td>NaN</td>\n",
       "      <td>NaN</td>\n",
       "      <td>NaN</td>\n",
       "      <td>0</td>\n",
       "      <td>2</td>\n",
       "      <td>2008</td>\n",
       "      <td>WD</td>\n",
       "      <td>Normal</td>\n",
       "      <td>208500</td>\n",
       "    </tr>\n",
       "    <tr>\n",
       "      <th>1</th>\n",
       "      <td>2</td>\n",
       "      <td>20</td>\n",
       "      <td>RL</td>\n",
       "      <td>80</td>\n",
       "      <td>9600</td>\n",
       "      <td>Pave</td>\n",
       "      <td>NaN</td>\n",
       "      <td>Reg</td>\n",
       "      <td>Lvl</td>\n",
       "      <td>AllPub</td>\n",
       "      <td>...</td>\n",
       "      <td>0</td>\n",
       "      <td>NaN</td>\n",
       "      <td>NaN</td>\n",
       "      <td>NaN</td>\n",
       "      <td>0</td>\n",
       "      <td>5</td>\n",
       "      <td>2007</td>\n",
       "      <td>WD</td>\n",
       "      <td>Normal</td>\n",
       "      <td>181500</td>\n",
       "    </tr>\n",
       "    <tr>\n",
       "      <th>2</th>\n",
       "      <td>3</td>\n",
       "      <td>60</td>\n",
       "      <td>RL</td>\n",
       "      <td>68</td>\n",
       "      <td>11250</td>\n",
       "      <td>Pave</td>\n",
       "      <td>NaN</td>\n",
       "      <td>IR1</td>\n",
       "      <td>Lvl</td>\n",
       "      <td>AllPub</td>\n",
       "      <td>...</td>\n",
       "      <td>0</td>\n",
       "      <td>NaN</td>\n",
       "      <td>NaN</td>\n",
       "      <td>NaN</td>\n",
       "      <td>0</td>\n",
       "      <td>9</td>\n",
       "      <td>2008</td>\n",
       "      <td>WD</td>\n",
       "      <td>Normal</td>\n",
       "      <td>223500</td>\n",
       "    </tr>\n",
       "    <tr>\n",
       "      <th>3</th>\n",
       "      <td>4</td>\n",
       "      <td>70</td>\n",
       "      <td>RL</td>\n",
       "      <td>60</td>\n",
       "      <td>9550</td>\n",
       "      <td>Pave</td>\n",
       "      <td>NaN</td>\n",
       "      <td>IR1</td>\n",
       "      <td>Lvl</td>\n",
       "      <td>AllPub</td>\n",
       "      <td>...</td>\n",
       "      <td>0</td>\n",
       "      <td>NaN</td>\n",
       "      <td>NaN</td>\n",
       "      <td>NaN</td>\n",
       "      <td>0</td>\n",
       "      <td>2</td>\n",
       "      <td>2006</td>\n",
       "      <td>WD</td>\n",
       "      <td>Abnorml</td>\n",
       "      <td>140000</td>\n",
       "    </tr>\n",
       "    <tr>\n",
       "      <th>4</th>\n",
       "      <td>5</td>\n",
       "      <td>60</td>\n",
       "      <td>RL</td>\n",
       "      <td>84</td>\n",
       "      <td>14260</td>\n",
       "      <td>Pave</td>\n",
       "      <td>NaN</td>\n",
       "      <td>IR1</td>\n",
       "      <td>Lvl</td>\n",
       "      <td>AllPub</td>\n",
       "      <td>...</td>\n",
       "      <td>0</td>\n",
       "      <td>NaN</td>\n",
       "      <td>NaN</td>\n",
       "      <td>NaN</td>\n",
       "      <td>0</td>\n",
       "      <td>12</td>\n",
       "      <td>2008</td>\n",
       "      <td>WD</td>\n",
       "      <td>Normal</td>\n",
       "      <td>250000</td>\n",
       "    </tr>\n",
       "  </tbody>\n",
       "</table>\n",
       "<p>5 rows × 81 columns</p>\n",
       "</div>"
      ],
      "text/plain": [
       "   Id  MSSubClass MSZoning  LotFrontage  LotArea Street Alley LotShape  \\\n",
       "0   1          60       RL           65     8450   Pave   NaN      Reg   \n",
       "1   2          20       RL           80     9600   Pave   NaN      Reg   \n",
       "2   3          60       RL           68    11250   Pave   NaN      IR1   \n",
       "3   4          70       RL           60     9550   Pave   NaN      IR1   \n",
       "4   5          60       RL           84    14260   Pave   NaN      IR1   \n",
       "\n",
       "  LandContour Utilities    ...     PoolArea PoolQC Fence MiscFeature MiscVal  \\\n",
       "0         Lvl    AllPub    ...            0    NaN   NaN         NaN       0   \n",
       "1         Lvl    AllPub    ...            0    NaN   NaN         NaN       0   \n",
       "2         Lvl    AllPub    ...            0    NaN   NaN         NaN       0   \n",
       "3         Lvl    AllPub    ...            0    NaN   NaN         NaN       0   \n",
       "4         Lvl    AllPub    ...            0    NaN   NaN         NaN       0   \n",
       "\n",
       "  MoSold YrSold  SaleType  SaleCondition  SalePrice  \n",
       "0      2   2008        WD         Normal     208500  \n",
       "1      5   2007        WD         Normal     181500  \n",
       "2      9   2008        WD         Normal     223500  \n",
       "3      2   2006        WD        Abnorml     140000  \n",
       "4     12   2008        WD         Normal     250000  \n",
       "\n",
       "[5 rows x 81 columns]"
      ]
     },
     "execution_count": 19,
     "metadata": {},
     "output_type": "execute_result"
    }
   ],
   "source": [
    "train.head()"
   ]
  },
  {
   "cell_type": "code",
   "execution_count": 23,
   "metadata": {},
   "outputs": [
    {
     "data": {
      "text/plain": [
       "<matplotlib.axes._subplots.AxesSubplot at 0x7eff8b91e450>"
      ]
     },
     "execution_count": 23,
     "metadata": {},
     "output_type": "execute_result"
    },
    {
     "data": {
      "image/png": "[encoded data removed]",
      "text/plain": [
       "<matplotlib.figure.Figure at 0x7eff8b906c50>"
      ]
     },
     "metadata": {},
     "output_type": "display_data"
    }
   ],
   "source": [
    "#Distribution of sale price\n",
    "sns.distplot(train.SalePrice, kde=False)"
   ]
  },
  {
   "cell_type": "code",
   "execution_count": 25,
   "metadata": {
    "collapsed": true
   },
   "outputs": [],
   "source": [
    "import xgboost as xgb"
   ]
  },
  {
   "cell_type": "code",
   "execution_count": 58,
   "metadata": {},
   "outputs": [],
   "source": [
    "##convert float64 to float32\n",
    "for c, dtype in zip(train.columns, train.dtypes):\n",
    "    if dtype == np.float64:\n",
    "        train[c] = train[c].astype(np.float32)"
   ]
  },
  {
   "cell_type": "code",
   "execution_count": 66,
   "metadata": {
    "collapsed": true
   },
   "outputs": [],
   "source": [
    "train_dummies = pd.get_dummies(train)"
   ]
  },
  {
   "cell_type": "code",
   "execution_count": 69,
   "metadata": {},
   "outputs": [],
   "source": [
    "x_train = train_dummies.drop(['Id', 'SalePrice'], axis=1)\n",
    "y_train = train_dummies.SalePrice.values"
   ]
  },
  {
   "cell_type": "code",
   "execution_count": 70,
   "metadata": {},
   "outputs": [],
   "source": [
    "split = 876"
   ]
  },
  {
   "cell_type": "code",
   "execution_count": 71,
   "metadata": {},
   "outputs": [],
   "source": [
    "x_train, y_train, x_valid, y_valid = x_train[:split], y_train[:split], x_train[split:], y_train[split:]"
   ]
  },
  {
   "cell_type": "code",
   "execution_count": 72,
   "metadata": {},
   "outputs": [],
   "source": [
    "import unittest\n",
    "#test their shapes\n",
    "assert(x_train.shape[0] + x_valid.shape[0] == train.shape[0])"
   ]
  },
  {
   "cell_type": "code",
   "execution_count": null,
   "metadata": {
    "collapsed": true
   },
   "outputs": [],
   "source": []
  },
  {
   "cell_type": "code",
   "execution_count": 73,
   "metadata": {},
   "outputs": [],
   "source": [
    "d_train = xgb.DMatrix(x_train, label=y_train)\n",
    "d_valid = xgb.DMatrix(x_valid, label=y_valid)"
   ]
  },
  {
   "cell_type": "code",
   "execution_count": 74,
   "metadata": {
    "collapsed": true
   },
   "outputs": [],
   "source": [
    "params = {}\n",
    "params['eta'] = 0.02\n",
    "params['objective'] = 'reg:linear'\n",
    "params['eval_metric'] = 'mae'\n",
    "params['max_depth'] = 4\n",
    "params['silent'] = 1"
   ]
  },
  {
   "cell_type": "code",
   "execution_count": 75,
   "metadata": {
    "collapsed": true
   },
   "outputs": [],
   "source": [
    "watchlist = [(d_train, 'train'), (d_valid, 'valid')]"
   ]
  },
  {
   "cell_type": "code",
   "execution_count": 76,
   "metadata": {},
   "outputs": [
    {
     "name": "stdout",
     "output_type": "stream",
     "text": [
      "[0]\ttrain-mae:179491\tvalid-mae:174140\n",
      "Multiple eval metrics have been passed: 'valid-mae' will be used for early stopping.\n",
      "\n",
      "Will train until valid-mae hasn't improved in 100 rounds.\n",
      "[10]\ttrain-mae:147134\tvalid-mae:142583\n",
      "[20]\ttrain-mae:120636\tvalid-mae:116698\n",
      "[30]\ttrain-mae:98966.6\tvalid-mae:95477.5\n",
      "[40]\ttrain-mae:81295.3\tvalid-mae:78181.5\n",
      "[50]\ttrain-mae:66869.2\tvalid-mae:64167.6\n",
      "[60]\ttrain-mae:55084.1\tvalid-mae:52896.6\n",
      "[70]\ttrain-mae:45538.4\tvalid-mae:43856.2\n",
      "[80]\ttrain-mae:37887.7\tvalid-mae:36870.7\n",
      "[90]\ttrain-mae:31726.4\tvalid-mae:31673.6\n",
      "[100]\ttrain-mae:26814.4\tvalid-mae:27811\n",
      "[110]\ttrain-mae:22959.2\tvalid-mae:24945.4\n",
      "[120]\ttrain-mae:19947.7\tvalid-mae:22882.8\n",
      "[130]\ttrain-mae:17635.6\tvalid-mae:21419.4\n",
      "[140]\ttrain-mae:15932.3\tvalid-mae:20411.2\n",
      "[150]\ttrain-mae:14603.9\tvalid-mae:19664.9\n",
      "[160]\ttrain-mae:13591.7\tvalid-mae:19135.4\n",
      "[170]\ttrain-mae:12803.8\tvalid-mae:18742.6\n",
      "[180]\ttrain-mae:12180\tvalid-mae:18465.4\n",
      "[190]\ttrain-mae:11680.6\tvalid-mae:18256.2\n",
      "[200]\ttrain-mae:11289.4\tvalid-mae:18082\n",
      "[210]\ttrain-mae:10964.9\tvalid-mae:17949.4\n",
      "[220]\ttrain-mae:10680.2\tvalid-mae:17827.5\n",
      "[230]\ttrain-mae:10427\tvalid-mae:17710.5\n",
      "[240]\ttrain-mae:10212\tvalid-mae:17618.7\n",
      "[250]\ttrain-mae:9993.13\tvalid-mae:17507.1\n",
      "[260]\ttrain-mae:9801.28\tvalid-mae:17430.1\n",
      "[270]\ttrain-mae:9610.72\tvalid-mae:17363\n",
      "[280]\ttrain-mae:9431.54\tvalid-mae:17308.5\n",
      "[290]\ttrain-mae:9275.34\tvalid-mae:17262.9\n",
      "[300]\ttrain-mae:9134.32\tvalid-mae:17211.9\n",
      "[310]\ttrain-mae:9012.67\tvalid-mae:17155.1\n",
      "[320]\ttrain-mae:8902.07\tvalid-mae:17118.7\n",
      "[330]\ttrain-mae:8779.64\tvalid-mae:17087.7\n",
      "[340]\ttrain-mae:8679.5\tvalid-mae:17052.5\n",
      "[350]\ttrain-mae:8562.6\tvalid-mae:17022.8\n",
      "[360]\ttrain-mae:8456.19\tvalid-mae:16986.9\n",
      "[370]\ttrain-mae:8357.68\tvalid-mae:16965.8\n",
      "[380]\ttrain-mae:8250.35\tvalid-mae:16952.4\n",
      "[390]\ttrain-mae:8155.9\tvalid-mae:16922.4\n",
      "[400]\ttrain-mae:8061.44\tvalid-mae:16912.4\n",
      "[410]\ttrain-mae:7966.09\tvalid-mae:16892.7\n",
      "[420]\ttrain-mae:7871.06\tvalid-mae:16874.5\n",
      "[430]\ttrain-mae:7781.16\tvalid-mae:16855.6\n",
      "[440]\ttrain-mae:7681.24\tvalid-mae:16841.5\n",
      "[450]\ttrain-mae:7606.42\tvalid-mae:16821.6\n",
      "[460]\ttrain-mae:7540.72\tvalid-mae:16801\n",
      "[470]\ttrain-mae:7457.33\tvalid-mae:16787.2\n",
      "[480]\ttrain-mae:7382.54\tvalid-mae:16766.7\n",
      "[490]\ttrain-mae:7315.98\tvalid-mae:16753.6\n",
      "[500]\ttrain-mae:7257.48\tvalid-mae:16730\n",
      "[510]\ttrain-mae:7189.07\tvalid-mae:16709.5\n",
      "[520]\ttrain-mae:7115.6\tvalid-mae:16701.4\n",
      "[530]\ttrain-mae:7058.04\tvalid-mae:16683.9\n",
      "[540]\ttrain-mae:6995.22\tvalid-mae:16668.7\n",
      "[550]\ttrain-mae:6937.62\tvalid-mae:16659\n",
      "[560]\ttrain-mae:6871.77\tvalid-mae:16639.4\n",
      "[570]\ttrain-mae:6812.08\tvalid-mae:16620.5\n",
      "[580]\ttrain-mae:6758.05\tvalid-mae:16618.4\n",
      "[590]\ttrain-mae:6696.04\tvalid-mae:16603.7\n",
      "[600]\ttrain-mae:6641.69\tvalid-mae:16589.7\n",
      "[610]\ttrain-mae:6587.84\tvalid-mae:16585.3\n",
      "[620]\ttrain-mae:6529.56\tvalid-mae:16568.1\n",
      "[630]\ttrain-mae:6473.64\tvalid-mae:16562.4\n",
      "[640]\ttrain-mae:6414.55\tvalid-mae:16541.6\n",
      "[650]\ttrain-mae:6359.2\tvalid-mae:16530.2\n",
      "[660]\ttrain-mae:6298.69\tvalid-mae:16512.3\n",
      "[670]\ttrain-mae:6246.87\tvalid-mae:16506.3\n",
      "[680]\ttrain-mae:6195.76\tvalid-mae:16491.7\n",
      "[690]\ttrain-mae:6147.39\tvalid-mae:16484.8\n",
      "[700]\ttrain-mae:6103.19\tvalid-mae:16477.6\n",
      "[710]\ttrain-mae:6049.66\tvalid-mae:16459.7\n",
      "[720]\ttrain-mae:5990.13\tvalid-mae:16446.3\n",
      "[730]\ttrain-mae:5934.46\tvalid-mae:16435\n",
      "[740]\ttrain-mae:5889.9\tvalid-mae:16435.4\n",
      "[750]\ttrain-mae:5850.45\tvalid-mae:16428.5\n",
      "[760]\ttrain-mae:5812.31\tvalid-mae:16419.5\n",
      "[770]\ttrain-mae:5761.38\tvalid-mae:16416.6\n",
      "[780]\ttrain-mae:5716.35\tvalid-mae:16415.7\n",
      "[790]\ttrain-mae:5670.79\tvalid-mae:16414.4\n",
      "[800]\ttrain-mae:5631.1\tvalid-mae:16407.7\n",
      "[810]\ttrain-mae:5586.54\tvalid-mae:16403.7\n",
      "[820]\ttrain-mae:5540.7\tvalid-mae:16400.6\n",
      "[830]\ttrain-mae:5500.65\tvalid-mae:16388.7\n",
      "[840]\ttrain-mae:5458.56\tvalid-mae:16381.4\n",
      "[850]\ttrain-mae:5408.1\tvalid-mae:16381.2\n",
      "[860]\ttrain-mae:5364.67\tvalid-mae:16376.4\n",
      "[870]\ttrain-mae:5316.58\tvalid-mae:16374.6\n",
      "[880]\ttrain-mae:5279.33\tvalid-mae:16375.2\n",
      "[890]\ttrain-mae:5243.75\tvalid-mae:16376.8\n",
      "[900]\ttrain-mae:5204.52\tvalid-mae:16376.9\n",
      "[910]\ttrain-mae:5166.58\tvalid-mae:16367\n",
      "[920]\ttrain-mae:5128.47\tvalid-mae:16365.2\n",
      "[930]\ttrain-mae:5098.26\tvalid-mae:16363.5\n",
      "[940]\ttrain-mae:5057.75\tvalid-mae:16361.1\n",
      "[950]\ttrain-mae:5018.94\tvalid-mae:16360.7\n",
      "[960]\ttrain-mae:4988.06\tvalid-mae:16364\n",
      "[970]\ttrain-mae:4951.72\tvalid-mae:16365.2\n",
      "[980]\ttrain-mae:4914.18\tvalid-mae:16361.3\n",
      "[990]\ttrain-mae:4883.83\tvalid-mae:16357.2\n",
      "[1000]\ttrain-mae:4845.02\tvalid-mae:16355.6\n",
      "[1010]\ttrain-mae:4805.11\tvalid-mae:16354.7\n",
      "[1020]\ttrain-mae:4763.9\tvalid-mae:16348.3\n",
      "[1030]\ttrain-mae:4726.67\tvalid-mae:16339.6\n",
      "[1040]\ttrain-mae:4693.74\tvalid-mae:16333.1\n",
      "[1050]\ttrain-mae:4651.07\tvalid-mae:16322.1\n",
      "[1060]\ttrain-mae:4617.81\tvalid-mae:16319.7\n",
      "[1070]\ttrain-mae:4577.02\tvalid-mae:16318.1\n",
      "[1080]\ttrain-mae:4546.13\tvalid-mae:16315.6\n",
      "[1090]\ttrain-mae:4506.4\tvalid-mae:16310.7\n",
      "[1100]\ttrain-mae:4472.53\tvalid-mae:16309.8\n",
      "[1110]\ttrain-mae:4437.96\tvalid-mae:16301.7\n",
      "[1120]\ttrain-mae:4407.39\tvalid-mae:16297.4\n",
      "[1130]\ttrain-mae:4376.38\tvalid-mae:16290.5\n",
      "[1140]\ttrain-mae:4344.95\tvalid-mae:16286.9\n",
      "[1150]\ttrain-mae:4318.95\tvalid-mae:16280.6\n",
      "[1160]\ttrain-mae:4293.38\tvalid-mae:16276.4\n",
      "[1170]\ttrain-mae:4263.3\tvalid-mae:16271.2\n",
      "[1180]\ttrain-mae:4235.61\tvalid-mae:16267.7\n",
      "[1190]\ttrain-mae:4207.01\tvalid-mae:16266.6\n",
      "[1200]\ttrain-mae:4178.67\tvalid-mae:16267.3\n",
      "[1210]\ttrain-mae:4152.39\tvalid-mae:16266.2\n",
      "[1220]\ttrain-mae:4122.14\tvalid-mae:16271.9\n",
      "[1230]\ttrain-mae:4091.61\tvalid-mae:16277.5\n",
      "[1240]\ttrain-mae:4061.6\tvalid-mae:16280.3\n",
      "[1250]\ttrain-mae:4029.8\tvalid-mae:16278.4\n",
      "[1260]\ttrain-mae:4003.51\tvalid-mae:16278.8\n",
      "[1270]\ttrain-mae:3975.14\tvalid-mae:16280.7\n",
      "[1280]\ttrain-mae:3950.14\tvalid-mae:16281.5\n",
      "[1290]\ttrain-mae:3915.74\tvalid-mae:16277.4\n",
      "[1300]\ttrain-mae:3887.49\tvalid-mae:16277.4\n",
      "Stopping. Best iteration:\n",
      "[1207]\ttrain-mae:4160.62\tvalid-mae:16263.2\n",
      "\n"
     ]
    }
   ],
   "source": [
    "clf = xgb.train(params, d_train, 10000, watchlist, early_stopping_rounds=100, verbose_eval=10)"
   ]
  },
  {
   "cell_type": "code",
   "execution_count": null,
   "metadata": {
    "collapsed": true
   },
   "outputs": [],
   "source": []
  }
 ],
 "metadata": {
  "kernelspec": {
   "display_name": "portfolio (Python 2)",
   "language": "python",
   "name": "portfolio"
  },
  "language_info": {
   "codemirror_mode": {
    "name": "ipython",
    "version": 2
   },
   "file_extension": ".py",
   "mimetype": "text/x-python",
   "name": "python",
   "nbconvert_exporter": "python",
   "pygments_lexer": "ipython2",
   "version": "2.7.12"
  }
 },
 "nbformat": 4,
 "nbformat_minor": 2
}
